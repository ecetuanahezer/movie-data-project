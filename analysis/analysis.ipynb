{
 "cells": [
  {
   "cell_type": "code",
   "execution_count": 2,
   "id": "46b24d95",
   "metadata": {},
   "outputs": [
    {
     "name": "stdout",
     "output_type": "stream",
     "text": [
      "   movieId                               title  \\\n",
      "0        1                    Toy Story (1995)   \n",
      "1        2                      Jumanji (1995)   \n",
      "2        3             Grumpier Old Men (1995)   \n",
      "3        4            Waiting to Exhale (1995)   \n",
      "4        5  Father of the Bride Part II (1995)   \n",
      "\n",
      "                                        genres  \n",
      "0  Adventure|Animation|Children|Comedy|Fantasy  \n",
      "1                   Adventure|Children|Fantasy  \n",
      "2                               Comedy|Romance  \n",
      "3                         Comedy|Drama|Romance  \n",
      "4                                       Comedy  \n",
      "   id  userId  movieId  rating  timestamp\n",
      "0   1       1        1     4.0  964982703\n",
      "1   2       1        3     4.0  964981247\n",
      "2   3       1        6     4.0  964982224\n",
      "3   4       1       47     5.0  964983815\n",
      "4   5       1       50     5.0  964982931\n",
      "   userId\n",
      "0       1\n",
      "1       2\n",
      "2       3\n",
      "3       4\n",
      "4       5\n"
     ]
    }
   ],
   "source": [
    "import pandas as pd\n",
    "from sqlalchemy import create_engine\n",
    "\n",
    "engine = create_engine(\"sqlite:///../movielens.db\")\n",
    "\n",
    "movies_df = pd.read_sql(\"SELECT * FROM movies\", con=engine)\n",
    "ratings_df = pd.read_sql(\"SELECT * FROM ratings\", con=engine)\n",
    "users_df = pd.read_sql(\"SELECT * FROM users\", con=engine)\n",
    "\n",
    "# See first rows of each DataFrame\n",
    "print(movies_df.head())\n",
    "print(ratings_df.head())\n",
    "print(users_df.head())\n"
   ]
  },
  {
   "cell_type": "code",
   "execution_count": 4,
   "id": "96803c7b",
   "metadata": {},
   "outputs": [
    {
     "name": "stdout",
     "output_type": "stream",
     "text": [
      "   movieId                               title  \\\n",
      "0        1                    Toy Story (1995)   \n",
      "1        2                      Jumanji (1995)   \n",
      "2        3             Grumpier Old Men (1995)   \n",
      "3        4            Waiting to Exhale (1995)   \n",
      "4        5  Father of the Bride Part II (1995)   \n",
      "\n",
      "                                        genres  \n",
      "0  Adventure|Animation|Children|Comedy|Fantasy  \n",
      "1                   Adventure|Children|Fantasy  \n",
      "2                               Comedy|Romance  \n",
      "3                         Comedy|Drama|Romance  \n",
      "4                                       Comedy  \n"
     ]
    }
   ],
   "source": [
    "print(movies_df.head())"
   ]
  },
  {
   "cell_type": "code",
   "execution_count": 5,
   "id": "db7c96bc",
   "metadata": {},
   "outputs": [
    {
     "name": "stdout",
     "output_type": "stream",
     "text": [
      "   id  userId  movieId  rating  timestamp\n",
      "0   1       1        1     4.0  964982703\n",
      "1   2       1        3     4.0  964981247\n",
      "2   3       1        6     4.0  964982224\n",
      "3   4       1       47     5.0  964983815\n",
      "4   5       1       50     5.0  964982931\n"
     ]
    }
   ],
   "source": [
    "print(ratings_df.head())"
   ]
  },
  {
   "cell_type": "code",
   "execution_count": 6,
   "id": "cf3aa492",
   "metadata": {},
   "outputs": [
    {
     "name": "stdout",
     "output_type": "stream",
     "text": [
      "   userId\n",
      "0       1\n",
      "1       2\n",
      "2       3\n",
      "3       4\n",
      "4       5\n"
     ]
    }
   ],
   "source": [
    "print(users_df.head())"
   ]
  },
  {
   "cell_type": "code",
   "execution_count": 8,
   "id": "45eae7b6",
   "metadata": {},
   "outputs": [
    {
     "data": {
      "text/html": [
       "<div>\n",
       "<style scoped>\n",
       "    .dataframe tbody tr th:only-of-type {\n",
       "        vertical-align: middle;\n",
       "    }\n",
       "\n",
       "    .dataframe tbody tr th {\n",
       "        vertical-align: top;\n",
       "    }\n",
       "\n",
       "    .dataframe thead th {\n",
       "        text-align: right;\n",
       "    }\n",
       "</style>\n",
       "<table border=\"1\" class=\"dataframe\">\n",
       "  <thead>\n",
       "    <tr style=\"text-align: right;\">\n",
       "      <th></th>\n",
       "      <th>title</th>\n",
       "      <th>avg_rating</th>\n",
       "      <th>rating_count</th>\n",
       "    </tr>\n",
       "  </thead>\n",
       "  <tbody>\n",
       "    <tr>\n",
       "      <th>277</th>\n",
       "      <td>Shawshank Redemption, The (1994)</td>\n",
       "      <td>4.429022</td>\n",
       "      <td>317</td>\n",
       "    </tr>\n",
       "    <tr>\n",
       "      <th>659</th>\n",
       "      <td>Godfather, The (1972)</td>\n",
       "      <td>4.289062</td>\n",
       "      <td>192</td>\n",
       "    </tr>\n",
       "    <tr>\n",
       "      <th>2224</th>\n",
       "      <td>Fight Club (1999)</td>\n",
       "      <td>4.272936</td>\n",
       "      <td>218</td>\n",
       "    </tr>\n",
       "    <tr>\n",
       "      <th>921</th>\n",
       "      <td>Godfather: Part II, The (1974)</td>\n",
       "      <td>4.259690</td>\n",
       "      <td>129</td>\n",
       "    </tr>\n",
       "    <tr>\n",
       "      <th>6298</th>\n",
       "      <td>Departed, The (2006)</td>\n",
       "      <td>4.252336</td>\n",
       "      <td>107</td>\n",
       "    </tr>\n",
       "    <tr>\n",
       "      <th>913</th>\n",
       "      <td>Goodfellas (1990)</td>\n",
       "      <td>4.250000</td>\n",
       "      <td>126</td>\n",
       "    </tr>\n",
       "    <tr>\n",
       "      <th>6693</th>\n",
       "      <td>Dark Knight, The (2008)</td>\n",
       "      <td>4.238255</td>\n",
       "      <td>149</td>\n",
       "    </tr>\n",
       "    <tr>\n",
       "      <th>46</th>\n",
       "      <td>Usual Suspects, The (1995)</td>\n",
       "      <td>4.237745</td>\n",
       "      <td>204</td>\n",
       "    </tr>\n",
       "    <tr>\n",
       "      <th>898</th>\n",
       "      <td>Princess Bride, The (1987)</td>\n",
       "      <td>4.232394</td>\n",
       "      <td>142</td>\n",
       "    </tr>\n",
       "    <tr>\n",
       "      <th>224</th>\n",
       "      <td>Star Wars: Episode IV - A New Hope (1977)</td>\n",
       "      <td>4.231076</td>\n",
       "      <td>251</td>\n",
       "    </tr>\n",
       "  </tbody>\n",
       "</table>\n",
       "</div>"
      ],
      "text/plain": [
       "                                          title  avg_rating  rating_count\n",
       "277            Shawshank Redemption, The (1994)    4.429022           317\n",
       "659                       Godfather, The (1972)    4.289062           192\n",
       "2224                          Fight Club (1999)    4.272936           218\n",
       "921              Godfather: Part II, The (1974)    4.259690           129\n",
       "6298                       Departed, The (2006)    4.252336           107\n",
       "913                           Goodfellas (1990)    4.250000           126\n",
       "6693                    Dark Knight, The (2008)    4.238255           149\n",
       "46                   Usual Suspects, The (1995)    4.237745           204\n",
       "898                  Princess Bride, The (1987)    4.232394           142\n",
       "224   Star Wars: Episode IV - A New Hope (1977)    4.231076           251"
      ]
     },
     "execution_count": 8,
     "metadata": {},
     "output_type": "execute_result"
    }
   ],
   "source": [
    "# Calculate average ratings and count of ratings per movie\n",
    "movie_stats = ratings_df.groupby(\"movieId\").agg(\n",
    "    avg_rating=(\"rating\", \"mean\"),\n",
    "    rating_count=(\"rating\", \"count\")\n",
    ").reset_index()\n",
    "\n",
    "# Merge with movies DataFrame to get movie titles\n",
    "movie_stats = movie_stats.merge(movies_df, left_on=\"movieId\", right_on=\"movieId\")\n",
    "\n",
    "# Sort top 10 movies with high rating count\n",
    "top_movies = movie_stats[movie_stats[\"rating_count\"] > 100].sort_values(\n",
    "    by=\"avg_rating\", ascending=False\n",
    ").head(10)\n",
    "\n",
    "top_movies[[\"title\", \"avg_rating\", \"rating_count\"]]"
   ]
  },
  {
   "cell_type": "code",
   "execution_count": null,
   "id": "3a1ad7eb",
   "metadata": {},
   "outputs": [
    {
     "data": {
      "text/plain": [
       "userId\n",
       "414    2698\n",
       "599    2478\n",
       "474    2108\n",
       "448    1864\n",
       "274    1346\n",
       "610    1302\n",
       "68     1260\n",
       "380    1218\n",
       "606    1115\n",
       "288    1055\n",
       "Name: count, dtype: int64"
      ]
     },
     "execution_count": 9,
     "metadata": {},
     "output_type": "execute_result"
    }
   ],
   "source": [
    "# Find most active users\n",
    "top_users = ratings_df[\"userId\"].value_counts().head(10)\n",
    "top_users"
   ]
  },
  {
   "cell_type": "code",
   "execution_count": 12,
   "id": "44b206dc",
   "metadata": {},
   "outputs": [
    {
     "data": {
      "text/plain": [
       "genre\n",
       "Documentary           3.781682\n",
       "Film-Noir             3.670471\n",
       "War                   3.571655\n",
       "Animation             3.497119\n",
       "Drama                 3.420905\n",
       "Western               3.383389\n",
       "(no genres listed)    3.371148\n",
       "Romance               3.364870\n",
       "Mystery               3.330364\n",
       "IMAX                  3.311996\n",
       "Crime                 3.301844\n",
       "Musical               3.296371\n",
       "Fantasy               3.218843\n",
       "Adventure             3.215230\n",
       "Comedy                3.181716\n",
       "Thriller              3.156116\n",
       "Children              3.107690\n",
       "Sci-Fi                3.102637\n",
       "Action                3.094498\n",
       "Horror                2.918965\n",
       "Name: avg_rating, dtype: float64"
      ]
     },
     "execution_count": 12,
     "metadata": {},
     "output_type": "execute_result"
    }
   ],
   "source": [
    "# Explode genres for analysis\n",
    "movies_exploded = movies_df.copy()\n",
    "movies_exploded[\"genre\"] = movies_exploded[\"genres\"].str.split(\"|\")\n",
    "movies_exploded = movies_exploded.explode(\"genre\")\n",
    "\n",
    "# Calculate average ratings per genre\n",
    "genre_ratings = movies_exploded.merge(movie_stats, left_on=\"movieId\", right_on=\"movieId\")\n",
    "genre_grouped = genre_ratings.groupby(\"genre\")[\"avg_rating\"].mean().sort_values(ascending=False)\n",
    "genre_grouped"
   ]
  },
  {
   "cell_type": "code",
   "execution_count": null,
   "id": "f317cd64",
   "metadata": {},
   "outputs": [],
   "source": []
  }
 ],
 "metadata": {
  "kernelspec": {
   "display_name": "venv (3.13.5)",
   "language": "python",
   "name": "python3"
  },
  "language_info": {
   "codemirror_mode": {
    "name": "ipython",
    "version": 3
   },
   "file_extension": ".py",
   "mimetype": "text/x-python",
   "name": "python",
   "nbconvert_exporter": "python",
   "pygments_lexer": "ipython3",
   "version": "3.13.5"
  }
 },
 "nbformat": 4,
 "nbformat_minor": 5
}
